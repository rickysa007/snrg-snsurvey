{
 "cells": [
  {
   "cell_type": "code",
   "execution_count": 1,
   "id": "0f3d3723",
   "metadata": {},
   "outputs": [],
   "source": [
    "import os\n",
    "import glob\n",
    "import numpy as np\n",
    "import json\n",
    "import math\n",
    "import matplotlib.pyplot as plt"
   ]
  },
  {
   "cell_type": "code",
   "execution_count": 2,
   "id": "9593ee95",
   "metadata": {},
   "outputs": [
    {
     "name": "stdout",
     "output_type": "stream",
     "text": [
      "693\n",
      "['SN2012cg.json', 'SN1994ae.json', 'SN2002he.json', 'SN2016coj.json', 'SN1996C.json', 'SN2000fa.json', 'SN2005an.json', 'SN2000cf.json', 'SN1997X.json', 'SN2009D.json', 'SN2012A.json', 'SN2013cu.json', 'SN2017cfd.json', 'SN2006hb.json', 'SN2006aj.json', 'SN2007fb.json', 'SN1997dq.json', 'SN2008Q.json', 'SN2008fp.json', 'SN1998bn.json', 'SN1997dt.json', 'SN2000cb.json', 'SN2005eq.json', 'SN2006bq.json', 'SN1991A.json', 'SN2014cy.json', 'SN2012fr.json', 'SN2005mz.json', 'SN2006fo.json', 'SN2000dt.json', 'SN2009aj.json', 'SN2007Y.json', 'SN2003ic.json', 'SN2007od.json', 'SN2008gi.json', 'SN2004A.json', 'SN1992H.json', 'SN2013ao.json', 'SN2003kc.json', 'SN2009kq.json', 'SN2009jb.json', 'SN2006sr.json', 'SN2008bo.json', 'SN2012hr.json', 'SN1999by.json', 'SN1998ec.json', 'SN2006tr.json', 'SN2003kd.json', 'SN2008iy.json', 'SN1997cy.json', 'SN2001X.json', 'SN2007gr.json', 'SN2008W.json', 'SN2001eh.json', 'SN2011fe.json', 'SN2005az.json', 'SN1999ee.json', 'SN2006bp.json', 'SN1995ak.json', 'SN2012ec.json', 'SN1998es.json', 'SN1997D.json', 'SN2007cp.json', 'SN1998cs.json', 'SN1995G.json', 'SN1992A.json', 'SN2006lc.json', 'SN2001C.json', 'SN2005ip.json', 'SN1990aa.json', 'SN2002dj.json', 'SN2017iji.json', 'SN2008aw.json', 'SN2013ek.json', 'SN1997Y.json', 'SN2001gc.json', 'SN2013aj.json', 'SN2012c1.json', 'SN2002bf.json', 'SN2006D.json', 'SN2008dr.json', 'SN2007su.json', 'SN2005am.json', 'SN1998fa.json', 'SN2012ck.json', 'SN2003it.json', 'SN1991M.json', 'SN2007cl.json', 'SN2009mg.json', 'SN2004gv.json', 'SN2011dh.json', 'SN2001V.json', 'SN1999em.json', 'SN1996X.json', 'SN1997E.json', 'SN2008A.json', 'SN2006be.json', 'SN2017glx.json', 'SN1999dn.json', 'SN2005bl.json', 'SN2008ag.json', 'SN2006cm.json', 'SN2002ji.json', 'SN2006oz.json', 'SN2017egm.json', 'SN2007ap.json', 'SN2001af.json', 'SN2003ek.json', 'SN1998dh.json', 'SN2006dd.json', 'SN1999gh.json', 'SN2006X.json', 'SN2007ce.json', 'SN2002bs.json', 'SN2015U.json', 'SN2008am.json', 'SN1998aq.json', 'SN2004bv.json', 'SN2009ao.json', 'SN1995ad.json', 'SN2001gb.json', 'SN2000B.json', 'SN2005ay.json', 'SN2007fs.json', 'SN2013K.json', 'SN2009E.json', 'SN2013gh.json', 'SN2006ac.json', 'SN2007A.json', 'SN2000ce.json', 'SN1998ef.json', 'SN2002ey.json', 'SN2007D.json', 'SN2003iv.json', 'SN1999el.json', 'SN1992ab.json', 'SN2014L.json', 'SN2001ej.json', 'SN2012Z.json', 'SN1996bo.json', 'SN2012hs.json', 'SN2007ld.json', 'SN2005ls.json', 'SN1991bg.json', 'SN1999aa.json', 'SN2006do.json', 'SN2008ds.json', 'SN2006bt.json', 'SN2006gt.json', 'SN2002ho.json', 'SN2010jl.json', 'SN2008fq.json', 'SN2000ch.json', 'SN1996W.json', 'SN1994U.json', 'SN2003cq.json', 'SN2006jd.json', 'SN2005kf.json', 'SN2002av.json', 'SN2002jg.json', 'SN2013df.json', 'SN2005kl.json', 'SN1999X.json', 'SN2007le.json', 'SN2016esw.json', 'SN1999cp.json', 'SN2010mc.json', 'SN2004gs.json', 'SN2006oa.json', 'SN2005lw.json', 'SN2005be.json', 'SN1997ef.json', 'SN2010aj.json', 'SN2007bm.json', 'SN2013by.json', 'SN2000fm.json', 'SN2006le.json', 'SN2009ip.json', 'SN2010et.json', 'SN2006cf.json', 'SN2005na.json', 'SN2011ay.json', 'SN1999an.json', 'SN2010md.json', 'SN2010as.json', 'SN1994S.json', 'SN2007af.json', 'SN2006al.json', 'SN2003fd.json', 'SN2008ax.json', 'SN2013fs.json', 'SN2007bj.json', 'SN2007bd.json', 'SN2009N.json', 'SN2006kf.json', 'SN2001ei.json', 'SN2007bi.json', 'SN2006lf.json', 'SN1999E.json', 'SN2014dn.json', 'SN2001br.json', 'SN2005A.json', 'SN2017dwp.json', 'SN2001es.json', 'SN2007ci.json', 'SN1998dx.json', 'SN2004Y.json', 'SN2013dx.json', 'SN2007ab.json', 'SN2002cp.json', 'SN1990I.json', 'SN2008bj.json', 'SN1991al.json', 'SN2007au.json', 'SN2006jc.json', 'SN2004ek.json', 'SN2003gs.json', 'SN2001S.json', 'SN2008Z.json', 'SN2003gf.json', 'SN2010jn.json', 'SN2006ai.json', 'SN2013bb.json', 'SN2007if.json', 'SN2005mf.json', 'SN2008aq.json', 'SN2002cs.json', 'SN1995F.json', 'SN2004ej.json', 'SN2009F.json', 'SN2006da.json', 'SN1990M.json', 'SN2008M.json', 'SN2007co.json', 'SN2007sw.json', 'SN2006ca.json', 'SN1995D.json', 'SN2004fc.json', 'SN2011ke.json', 'SN2008ew.json', 'SN2004aw.json', 'SN2003el.json', 'SN2001el.json', 'SN1998ab.json', 'SN2000cp.json', 'SN1995E.json', 'SN1990K.json', 'SN1995ac.json', 'SN2009fw.json', 'SN2001bs.json', 'SN2007av.json', 'SN2011hs.json', 'SN2012ij.json', 'SN2008ha.json', 'SN2006S.json', 'SN1999di.json', 'SN2015G.json', 'SN2003du.json', 'SN2006dy.json', 'SN2005Z.json', 'SN2004bd.json', 'SN2012aa.json', 'SN2005kc.json', 'SN2007ba.json', 'SN2002aw.json', 'SN2006ot.json', 'SN2013bh.json', 'SN2003jd.json', 'SN2016aqt.json', 'SN2002de.json', 'SN2014dg.json', 'SN1998dm.json', 'SN2008cg.json', 'SN1996ai.json', 'SN2000eo.json', 'SN2005ke.json', 'SN2013hx.json', 'SN2003hl.json', 'SN2007N.json', 'SN2006dm.json', 'SN2004er.json', 'SN2002bz.json', 'SN2007C.json', 'SN2005W.json', 'SN2005hj.json', 'SN2008ip.json', 'SN2006em.json', 'SN2007B.json', 'SN2001do.json', 'SN2015bp.json', 'SN2007ck.json', 'SN2014J.json', 'SN2008J.json', 'SN1999dq.json', 'SN1997bp.json', 'SN2007kk.json', 'SN2013cg.json', 'SN2006ep.json', 'SN1999cw.json', 'SN2006ef.json', 'SN2000dg.json', 'SN2001iq.json', 'SN1999gd.json', 'SN2013hj.json', 'SN2007ax.json', 'SN2005dq.json', 'SN2011ap.json', 'SN2001B.json', 'SN2009Y.json', 'SN1990N.json', 'SN2003Z.json', 'SN2014eh.json', 'SN2003E.json', 'SN2006qr.json', 'SN1997do.json', 'SN2003ch.json', 'SN2013dh.json', 'SN2010hy.json', 'SN2002dp.json', 'SN2009dd.json', 'SN2004ef.json', 'SN2006ee.json', 'SN1990E.json', 'SN2006br.json', 'SN2002hj.json', 'SN1996by.json', 'SN2014G.json', 'SN2002jy.json', 'SN1992G.json', 'SN2001fh.json', 'SN2008B.json', 'SN2004ey.json', 'SN2008bx.json', 'SN2011by.json', 'SN2008K.json', 'SN2005hg.json', 'SN2004du.json', 'SN2013ge.json', 'SN2009at.json', 'SN2008in.json', 'SN2008bn.json', 'SN1999cc.json', 'SN2002hd.json', 'SN2003iu.json', 'SN2005kj.json', 'SN2004eu.json', 'SN2006te.json', 'SN1999ek.json', 'SN1999gq.json', 'SN2013fq.json', 'SN2017hbi.json', 'SN2008ec.json', 'SN1995al.json', 'SN2011bm.json', 'SN2006gj.json', 'SN2002er.json', 'SN2003fa.json', 'SN2002hx.json', 'SN2003gd.json', 'SN2007al.json', 'SN2012dy.json', 'SN2008bu.json', 'SN2006aa.json', 'SN2003hd.json', 'SN2000ck.json', 'SN2012il.json', 'SN2001ep.json', 'SN2012dj.json', 'SN2010al.json', 'SN2011km.json', 'SN2003eh.json', 'SN1998eg.json', 'SN2009jf.json', 'SN2004fu.json', 'SN2011fu.json', 'SN1998bp.json', 'SN2009js.json', 'SN2009kr.json', 'SN1999da.json', 'SN2007sr.json', 'SN2013ew.json', 'SN2006bl.json', 'SN1994T.json', 'SN2005la.json', 'SN2008ae.json', 'SN2000cx.json', 'SN2011cj.json', 'SN1990B.json', 'SN2006mr.json', 'SN1994M.json', 'SN1999ac.json', 'SN2005ao.json', 'SN1998co.json', 'SN2002ar.json', 'SN2001G.json', 'SN2007qe.json', 'SN2009iz.json', 'SN2008R.json', 'SN2007ca.json', 'SN1999br.json', 'SN2007J.json', 'SN2006cz.json', 'SN2012au.json', 'SN2000cr.json', 'SN2015L.json', 'SN2005cc.json', 'SN2006dv.json', 'SN1991F.json', 'SN2012aw.json', 'SN2014cx.json', 'SN2018hfp.json', 'SN2011kf.json', 'SN2003ed.json', 'SN1999gp.json', 'SN2009kn.json', 'SN2005ap.json', 'SN2006qq.json', 'SN2001bf.json', 'SN2007il.json', 'SN1991N.json', 'SN2014aa.json', 'SN1997br.json', 'SN2002fb.json', 'SN2005M.json', 'SN2000dn.json', 'SN2006ej.json', 'SN2001gd.json', 'SN2009ig.json', 'SN2002bx.json', 'SN2004ao.json', 'SN2006ov.json', 'SN2007on.json', 'SN2000cn.json', 'SN2000P.json', 'SN2014C.json', 'SN1996Z.json', 'SN2002hw.json', 'SN1999gi.json', 'SN2003W.json', 'SN2008dx.json', 'SN2004at.json', 'SN2005lu.json', 'SN2003iq.json', 'SN2002ao.json', 'SN1999ej.json', 'SN2004gt.json', 'SN2007F.json', 'SN2017drh.json', 'SN2008s1.json', 'SN2003ej.json', 'SN2003bn.json', 'SN2001ck.json', 'SN2005hc.json', 'SN2002es.json', 'SN2012dn.json', 'SN2004fe.json', 'SN2001cg.json', 'SN2001da.json', 'SN2001en.json', 'SN2001fe.json', 'SN2007P.json', 'SN2002eu.json', 'SN2002bo.json', 'SN2005ek.json', 'SN2005eu.json', 'SN2001bp.json', 'SN2008es.json', 'SN2002kf.json', 'SN2002hh.json', 'SN2002ck.json', 'SN2002do.json', 'SN2004gq.json', 'SN2017fgc.json', 'SN2013ab.json', 'SN2009er.json', 'SN2009aa.json', 'SN1998dt.json', 'SN2006gy.json', 'SN2010ae.json', 'SN2001ie.json', 'SN2013fw.json', 'SN1999cl.json', 'SN2003bg.json', 'SN2014dq.json', 'SN2004dk.json', 'SN2009ay.json', 'SN2006N.json', 'SN2008S.json', 'SN2003B.json', 'SN1999dk.json', 'SN2004et.json', 'SN2013dg.json', 'SN2007cq.json', 'SN2006cj.json', 'SN2014cp.json', 'SN1997bq.json', 'SN2003ae.json', 'SN2006H.json', 'SN2016bln.json', 'SN2018feb.json', 'SN2001cp.json', 'SN2003hn.json', 'SN2004bg.json', 'SN2008D.json', 'SN2016ard.json', 'SN2007U.json', 'SN2001E.json', 'SN2004as.json', 'SN1996bl.json', 'SN2017cqe.json', 'SN2016blv.json', 'SN1999gm.json', 'SN1994aj.json', 'SN2002gw.json', 'SN2001fw.json', 'SN1994Y.json', 'SN1999ex.json', 'SN2000fo.json', 'SN2005hk.json', 'SN2002iy.json', 'SN1994Q.json', 'SN2004em.json', 'SN1997cn.json', 'SN2012hn.json', 'SN2013ak.json', 'SN1996cb.json', 'SN2016eay.json', 'SN2007uy.json', 'SN1997eg.json', 'SN2006T.json', 'SN2006et.json', 'SN2012ht.json', 'SN2005eo.json', 'SN2007I.json', 'SN2003D.json', 'SN2007oc.json', 'SN2007ao.json', 'SN2012gg.json', 'SN2004S.json', 'SN2012ho.json', 'SN2002hu.json', 'SN2012ca.json', 'SN2004fx.json', 'SN1993K.json', 'SN2007aa.json', 'SN2005gj.json', 'SN2002cx.json', 'SN2007hj.json', 'SN2000H.json', 'SN2009dc.json', 'SN2002ha.json', 'SN2015ah.json', 'SN2017hpa.json', 'SN2013ej.json', 'SN2008ei.json', 'SN2010bh.json', 'SN2003cg.json', 'SN2006ob.json', 'SN2005cs.json', 'SN2002ap.json', 'SN2011jh.json', 'SN2011iv.json', 'SN2008ar.json', 'SN2004C.json', 'SN1993J.json', 'SN2001fx.json', 'SN2006lv.json', 'SN2013fc.json', 'SN2010id.json', 'SN2001ig.json', 'SN2005hf.json', 'SN2002cu.json', 'SN2007S.json', 'SN2011ei.json', 'SN2003Y.json', 'SN2008bk.json', 'SN2000dm.json', 'SN2005kk.json', 'SN2011ht.json', 'SN2008bc.json', 'SN2011A.json', 'SN2002cd.json', 'SN2001ay.json', 'SN2006V.json', 'SN2007ux.json', 'SN2001ci.json', 'SN2013ai.json', 'SN1991B.json', 'SN2004am.json', 'SN1999cq.json', 'SN2002gd.json', 'SN2017erp.json', 'SN2010jp.json', 'SN2009jh.json', 'SN2014ao.json', 'SN2009au.json', 'SN2013gr.json', 'SN2005J.json', 'SN1998de.json', 'SN1998dk.json', 'SN2003kf.json', 'SN2001cf.json', 'SN2013gq.json', 'SN2008ia.json', 'SN2013hy.json', 'SN2007rt.json', 'SN2010gn.json', 'SN2007nq.json', 'SN2003hv.json', 'SN2006cp.json', 'SN2005el.json', 'SN2001ch.json', 'SN2004L.json', 'SN2002bu.json', 'SN2011hw.json', 'SN2005O.json', 'SN2003ep.json', 'SN1998V.json', 'SN2014cr.json', 'SN2006Y.json', 'SN2004eo.json', 'SN2001fa.json', 'SN2012ap.json', 'SN2013hn.json', 'SN2001cy.json', 'SN2006au.json', 'SN2006el.json', 'SN2004dj.json', 'SN2000cs.json', 'SN1993Z.json', 'SN2013aa.json', 'SN2004dt.json', 'SN2007sq.json', 'SN2006ck.json', 'SN1994D.json', 'SN2002cr.json', 'SN1997ei.json', 'SN1991T.json', 'SN2007pk.json', 'SN2004gk.json', 'SN2013am.json', 'SN2005ki.json', 'SN1994I.json', 'SN2011jb.json', 'SN1996al.json', 'SN2008C.json', 'SN2008if.json', 'SN2014dt.json', 'SN2010bq.json', 'SN2007it.json', 'SN2006gr.json', 'SN1998bu.json', 'SN2009ib.json', 'SN2007jg.json', 'SN2013E.json', 'SN2007bc.json', 'SN2013cs.json', 'SN2014at.json', 'SN2003M.json', 'SN2002fk.json', 'SN2005cf.json', 'SN2008hv.json', 'SN2005bf.json', 'SN2009bb.json', 'SN2005ej.json', 'SN1990U.json', 'SN2006is.json', 'SN2001az.json', 'SN1998S.json', 'SN2007X.json', 'SN2008ea.json', 'SN2002hf.json', 'SN2011fd.json', 'SN2010cr.json', 'SN2006ld.json', 'SN2015bn.json', 'SN2008bf.json', 'SN2003hu.json', 'SN2007rs.json', 'SN2006ax.json', 'SN2003hy.json', 'SN2004bi.json', 'SN2001N.json', 'SN2004dn.json', 'SN2006gz.json', 'SN2008ex.json', 'SN2011hr.json', 'SN2000dk.json', 'SN2001bg.json', 'SN2013gy.json', 'SN1998bw.json', 'SN2003dh.json', 'SN1995bd.json']\n"
     ]
    }
   ],
   "source": [
    "# Import the .json file\n",
    "\n",
    "os.chdir(r\"C:\\Users\\ricky\\JupyterNotebooks\\Intern21\\import_photometry_data\\selected_all_type_photometry_better_data\")\n",
    "filename = glob.glob('*.json')\n",
    "np.random.seed(1)\n",
    "np.random.shuffle(filename)\n",
    "print(len(filename))\n",
    "print(filename)\n",
    "\n",
    "# Create a list for all .json, the 1st SN saved as json_data[0], the 2nd SN saved as json_data[1], etc.\n",
    "json_data = []\n",
    "for i in filename:\n",
    "    with open(i, encoding=\"utf-8\") as f:\n",
    "        json_data.append(json.load(f))"
   ]
  },
  {
   "cell_type": "code",
   "execution_count": 3,
   "id": "5e21b89e",
   "metadata": {},
   "outputs": [],
   "source": [
    "''' Avoid any .json that didn't contain more than 10 data points at the specified band\n",
    "\n",
    "Input\n",
    "    filename: list of string\n",
    "        1D list\n",
    "        the name of the .json file\n",
    "\n",
    "    Filter: list of string\n",
    "        1D list\n",
    "        Name of each band of a particular filter system in use\n",
    "    \n",
    "Return\n",
    "    filename_id: list of number\n",
    "        1D list\n",
    "        id of non-empty SN in the list of filename\n",
    "'''\n",
    "def avoid_emptySN(filename, Filter):\n",
    "    \n",
    "    Band = []\n",
    "    filename_id = []\n",
    "    threshold = 10 # Any SN with more than 10 data points will be used\n",
    "    #filename1 = filename\n",
    "    #print(filename)\n",
    "    for i in range(len(filename)):\n",
    "        #print(i)\n",
    "        Band.append([])\n",
    "        \n",
    "        SN_name = filename[i].replace('.json', '')\n",
    "        SN_name = SN_name.replace('_', ':')\n",
    "        \n",
    "        try:\n",
    "            N = len(json_data[i][SN_name]['photometry']) # The no. of data point of photometry in each SN\n",
    "            LumDist = float(json_data[i][SN_name]['lumdist'][0]['value'])\n",
    "        except:\n",
    "            N = 1\n",
    "        #print(SN_name)\n",
    "        for j in range(N): # Loop through all photemetry datapoint in one SN\n",
    "            # Avoid any data point without band data\n",
    "            try:\n",
    "                Band[i].append(json_data[i][SN_name]['photometry'][j]['band'])\n",
    "            except:\n",
    "                Band[i].append(0)\n",
    "                \n",
    "        a = 0\n",
    "        for j in range(N):\n",
    "            for k in range(len(Filter)):\n",
    "                if Band[i][j] == Filter[k]:\n",
    "                    a += 1\n",
    "        \n",
    "        if a > threshold: # Any SN with more than 10 data points will be used\n",
    "            filename_id.append(i)\n",
    "            \n",
    "    return filename_id"
   ]
  },
  {
   "cell_type": "code",
   "execution_count": 4,
   "id": "5f4c2fa9",
   "metadata": {},
   "outputs": [],
   "source": [
    "Filter_all = ['U', 'B', 'V', 'R', 'I', \"u'\", \"g'\", \"r'\", \"i'\", 'u', 'g', 'r', 'i'] # Filter to be used for your plotting later\n",
    "filename_all = avoid_emptySN(filename, Filter_all)"
   ]
  },
  {
   "cell_type": "code",
   "execution_count": 5,
   "id": "7eae507d",
   "metadata": {},
   "outputs": [],
   "source": [
    "'''Extract data from .json\n",
    "\n",
    "Input\n",
    "    Filter: list of string\n",
    "        1D list\n",
    "        Name of each band of a particular filter system in use\n",
    "    \n",
    "Return\n",
    "    Time: list \n",
    "        shape=(len(Filter), len(filename), number of data)\n",
    "        Time of datapoints of SN\n",
    "        \n",
    "    Magnitude_Abs: list\n",
    "        shape=(len(Filter), len(filename), number of data)\n",
    "        Absolute magnitude of datapoints of SN,\n",
    "        calculated from the relative magnitude, redshift, and luminosity distance\n",
    "        \n",
    "    Magnitude_Abs_err: list\n",
    "        shape=(len(Filter), len(filename), number of data)\n",
    "        Error of absolute magnitude of datapoints of SN,\n",
    "        calculated from relative magnitude error and luminosity distance error\n",
    "        \n",
    "    Type: list\n",
    "        1D list\n",
    "        Store the claimed type of the SN\n",
    "'''\n",
    "\n",
    "def lc_extractor(filename, filename_id, Filter):\n",
    "    \n",
    "    Band = [] # Contain EM band chosen for analysis\n",
    "    Type = [] # Claimed type from the .json\n",
    "    \n",
    "    Time = [] # Contain time (MJD) for each band\n",
    "    Magnitude_Abs = [] # Contain absolute magnitude for each band\n",
    "    Magnitude_Abs_err = [] # Contain error of absolute magnitude for each band\n",
    "    \n",
    "    for j in range(len(Filter)): # Create a dimension to store the data at each band separately\n",
    "        Time.append([]) \n",
    "        Magnitude_Abs.append([])\n",
    "        Magnitude_Abs_err.append([])\n",
    "\n",
    "    \n",
    "    \n",
    "    for i in range(len(filename_id)): # Loop through all SN\n",
    "\n",
    "        Band.append([]) # Create 2D list\n",
    "\n",
    "        SN_name = filename[filename_id[i]].replace('.json', '')\n",
    "        SN_name = SN_name.replace('_', ':')\n",
    "        \n",
    "        LumDist = float(json_data[filename_id[i]][SN_name]['lumdist'][0]['value']) # Obtain the luminosity distance\n",
    "        \n",
    "        try:\n",
    "            LumDist_err = float(json_data[filename_id[i]][SN_name]['lumdist'][0]['e_value'])\n",
    "        except:\n",
    "            LumDist_err = 0\n",
    "\n",
    "        z = float(json_data[filename_id[i]][SN_name]['redshift'][0]['value']) # Obtain the redshift, z\n",
    "\n",
    "        N = len(json_data[filename_id[i]][SN_name]['photometry']) # The no. of data point of photometry in each SN\n",
    "\n",
    "        Type.append(json_data[filename_id[i]][SN_name]['claimedtype'][0]['value']) \n",
    "\n",
    "        for j in range(len(Filter)):\n",
    "\n",
    "            Time[j].append([])\n",
    "            Magnitude_Abs[j].append([])\n",
    "            Magnitude_Abs_err[j].append([])\n",
    "\n",
    "        for j in range(N): # Loop through all photemetry datapoint in one SN\n",
    "            # Avoid any data point without band data\n",
    "            try:\n",
    "                Band[i].append(json_data[filename_id[i]][SN_name]['photometry'][j]['band'])\n",
    "            except:\n",
    "                Band[i].append(0)\n",
    "\n",
    "            for k in range(len(Filter)):\n",
    "                # Create light curves for every sources   \n",
    "                if Band[i][j] == Filter[k]:\n",
    "\n",
    "                    Magnitude_App = float(json_data[filename_id[i]][SN_name]['photometry'][j]['magnitude']) # Obtain the apparent magnitude from photometry       \n",
    "\n",
    "                    Time[k][i].append(float(json_data[filename_id[i]][SN_name]['photometry'][j]['time'])) # Fill the Time list\n",
    "                    Magnitude_Abs[k][i].append(Magnitude_App - 5*np.log10(LumDist*1e5) + 2.5*np.log10(1+z)) # Calculate the absolute magnitude and fill the Magnitude_Abs list\n",
    "\n",
    "                    try:\n",
    "                        Magnitude_App_err = float(json_data[filename_id[i]][SN_name]['photometry'][j]['e_magnitude'])\n",
    "                        Magnitude_Abs_err[k][i].append(np.sqrt(Magnitude_App_err**2 + (5*0.434*LumDist_err/LumDist)**2))\n",
    "                    except:\n",
    "                        Magnitude_Abs_err[k][i].append(0.3)\n",
    "            \n",
    "            \n",
    "    return Time, Magnitude_Abs, Magnitude_Abs_err, Type"
   ]
  },
  {
   "cell_type": "code",
   "execution_count": 6,
   "id": "9dcbbed2",
   "metadata": {},
   "outputs": [],
   "source": [
    "Time_all, Magnitude_Abs_all, Magnitude_Abs_err_all, Type_all = lc_extractor(filename, filename_all, Filter_all)"
   ]
  },
  {
   "cell_type": "code",
   "execution_count": 7,
   "id": "46f8fc6f",
   "metadata": {},
   "outputs": [],
   "source": [
    "del json_data # Delete the raw data to save RAM"
   ]
  },
  {
   "cell_type": "code",
   "execution_count": 15,
   "id": "a08af4b8",
   "metadata": {},
   "outputs": [],
   "source": [
    "def LC_plt(band_id, filename_id):\n",
    "    \n",
    "    x = Time_all[band_id][filename_all[filename_id]]\n",
    "    y = Magnitude_Abs_all[band_id][filename_all[filename_id]]\n",
    "    y_err = Magnitude_Abs_err_all[band_id][filename_all[filename_id]]\n",
    "    \n",
    "    fig = plt.figure(figsize=(16,10))\n",
    "    ax = fig.add_subplot(1, 1, 1)\n",
    "\n",
    "    plt.gca().invert_yaxis()\n",
    "\n",
    "    major_ticks_x = np.arange(x[0], x[-1], 50)\n",
    "    minor_ticks_x = np.arange(x[0], x[-1], 10)\n",
    "\n",
    "    major_ticks_y = np.arange(-22, -5, 2)\n",
    "    minor_ticks_y = np.arange(-22, -5, 1)\n",
    "\n",
    "    ax.set_xticks(major_ticks_x)\n",
    "    ax.set_xticks(minor_ticks_x, minor=True)\n",
    "\n",
    "    ax.set_yticks(major_ticks_y)\n",
    "    ax.set_yticks(minor_ticks_y, minor=True)\n",
    "\n",
    "    # And a corresponding grid\n",
    "    ax.grid(which='major', alpha=0.8)\n",
    "    ax.grid(which='minor', alpha=0.3)\n",
    "\n",
    "    plt.xlabel('Time (day)')\n",
    "    plt.ylabel('Absolute Magnitude')\n",
    "    \n",
    "    plt.title(filename[filename_id])\n",
    "    \n",
    "    plt.errorbar(x, y, y_err, fmt='o', ms=4)\n",
    "\n",
    "    plt.show()"
   ]
  },
  {
   "cell_type": "code",
   "execution_count": 11,
   "id": "bed5af6a",
   "metadata": {},
   "outputs": [
    {
     "name": "stdout",
     "output_type": "stream",
     "text": [
      "[0, 1, 2, 3, 4, 5, 6, 7, 8, 9, 10, 11, 12, 13, 14, 15, 17, 18, 20, 21, 22, 23, 25, 26, 27, 28, 31, 32, 33, 34, 35, 36, 38, 39, 40, 41, 42, 43, 44, 45, 46, 48, 49, 50, 51, 52, 53, 54, 55, 56, 57, 58, 59, 60, 61, 64, 65, 66, 67, 68, 70, 72, 74, 75, 76, 78, 79, 80, 81, 82, 84, 85, 86, 87, 88, 89, 90, 91, 92, 93, 94, 95, 96, 97, 99, 100, 101, 103, 104, 105, 108, 110, 111, 112, 113, 114, 115, 116, 117, 118, 119, 120, 121, 122, 123, 125, 126, 127, 128, 129, 130, 132, 133, 134, 136, 137, 138, 139, 141, 142, 143, 144, 146, 147, 148, 150, 151, 155, 156, 157, 159, 160, 161, 162, 163, 164, 165, 166, 167, 168, 169, 170, 171, 172, 173, 174, 176, 177, 178, 180, 181, 183, 185, 186, 187, 189, 190, 191, 192, 193, 194, 196, 197, 198, 200, 201, 204, 205, 208, 210, 211, 212, 213, 214, 215, 216, 218, 220, 221, 223, 224, 225, 226, 228, 229, 232, 233, 234, 235, 236, 237, 238, 240, 242, 243, 244, 245, 246, 247, 250, 251, 252, 253, 254, 256, 257, 259, 260, 262, 263, 264, 265, 266, 267, 268, 269, 270, 271, 273, 274, 275, 276, 277, 278, 279, 280, 281, 282, 283, 284, 285, 286, 288, 289, 290, 291, 292, 293, 294, 295, 297, 298, 299, 300, 302, 304, 307, 308, 309, 310, 312, 313, 314, 315, 316, 317, 318, 319, 320, 321, 322, 323, 324, 326, 327, 328, 329, 330, 331, 332, 333, 334, 335, 336, 337, 338, 339, 340, 341, 342, 344, 346, 347, 350, 351, 352, 353, 354, 355, 356, 357, 358, 359, 361, 362, 363, 365, 366, 368, 369, 371, 372, 373, 374, 375, 376, 377, 378, 379, 381, 382, 383, 384, 385, 386, 387, 388, 389, 390, 392, 394, 395, 396, 397, 398, 399, 400, 402, 404, 405, 408, 409, 411, 413, 414, 415, 416, 417, 418, 419, 421, 422, 423, 424, 425, 426, 427, 428, 429, 430, 431, 432, 434, 435, 436, 437, 438, 439, 440, 441, 442, 444, 445, 446, 447, 448, 449, 450, 451, 452, 453, 454, 455, 457, 458, 459, 460, 461, 462, 463, 464, 465, 466, 467, 468, 469, 470, 471, 472, 473, 474, 477, 478, 479, 480, 481, 482, 483, 484, 485, 486, 487, 488, 489, 490, 491, 492, 493, 495, 496, 497, 498, 499, 500, 501, 502, 503, 506, 507, 508, 512, 513, 515, 516, 518, 519, 520, 522, 523, 524, 525, 526, 527, 528, 529, 530, 531, 532, 533, 534, 535, 538, 540, 541, 542, 543, 544, 545, 546, 547, 549, 550, 553, 554, 555, 556, 557, 558, 559, 562, 564, 566, 568, 569, 570, 571, 572, 573, 574, 575, 576, 578, 579, 581, 582, 583, 584, 586, 590, 591, 592, 593, 594, 595, 597, 598, 599, 600, 602, 603, 604, 605, 606, 607, 608, 609, 610, 612, 613, 614, 617, 619, 620, 621, 622, 623, 625, 626, 627, 629, 630, 631, 632, 633, 634, 635, 637, 638, 639, 640, 641, 642, 644, 645, 646, 647, 648, 649, 650, 651, 652, 653, 654, 655, 656, 657, 659, 660, 661, 662, 663, 666, 667, 668, 669, 670, 672, 673, 674, 675, 676, 677, 678, 679, 682, 683, 684, 685, 687, 688, 689, 690, 691, 692]\n"
     ]
    }
   ],
   "source": [
    "print(filename_all) #filename_id"
   ]
  },
  {
   "cell_type": "code",
   "execution_count": 16,
   "id": "b8f1527b",
   "metadata": {},
   "outputs": [
    {
     "data": {
      "image/png": "[encoded data removed]",
      "text/plain": [
       "<Figure size 1152x720 with 1 Axes>"
      ]
     },
     "metadata": {
      "needs_background": "light"
     },
     "output_type": "display_data"
    }
   ],
   "source": [
    "LC_plt(1, 0) # plotting of the 1st SN in filename, at B band"
   ]
  }
 ],
 "metadata": {
  "kernelspec": {
   "display_name": "Python 3",
   "language": "python",
   "name": "python3"
  },
  "language_info": {
   "codemirror_mode": {
    "name": "ipython",
    "version": 3
   },
   "file_extension": ".py",
   "mimetype": "text/x-python",
   "name": "python",
   "nbconvert_exporter": "python",
   "pygments_lexer": "ipython3",
   "version": "3.8.5"
  }
 },
 "nbformat": 4,
 "nbformat_minor": 5
}
